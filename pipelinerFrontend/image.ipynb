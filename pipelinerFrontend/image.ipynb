{
 "cells": [
  {
   "cell_type": "code",
   "execution_count": 20,
   "metadata": {},
   "outputs": [],
   "source": [
    "from PIL import Image\n",
    "from random import randint\n",
    "\n",
    "image = Image.open(\"image.png\")\n",
    "image = image.convert(\"RGB\")\n",
    "width, height = image.size\n",
    "pixel_data = []\n",
    "\n",
    "for y in range(height):\n",
    "    row = []\n",
    "    for x in range(width):\n",
    "        r, g, b = image.getpixel((x, y))\n",
    "\n",
    "        # add fake color noise\n",
    "        # rNew = max(min((r+randint(0,100)),255),0) if randint(0,1) == 0 else max(min((r-randint(0,100)),255),0)\n",
    "        # gNew = max(min((g+randint(0,100)),255),0) if randint(0,1) == 0 else max(min((g-randint(0,100)),255),0)\n",
    "        # bNew = max(min((b+randint(0,100)),255),0) if randint(0,1) == 0 else max(min((b-randint(0,100)),255),0)\n",
    "        \n",
    "        # add true color noise\n",
    "        # rNew = max(min((r-randint(0,100)),255),0) if r<randint(0,255) else max(min((r+randint(0,100)),255),0)\n",
    "        # gNew = max(min((g-randint(0,100)),255),0) if g<randint(0,255) else max(min((g+randint(0,100)),255),0)\n",
    "        # bNew = max(min((b-randint(0,100)),255),0) if b<randint(0,255) else max(min((b+randint(0,100)),255),0)\n",
    "\n",
    "        # add saturation\n",
    "        # rNew = max(min((r+50),255),0) if r > 150 else max(min((r-50),255),0)\n",
    "        # gNew = max(min((g+50),255),0) if g > 150 else max(min((g-50),255),0)\n",
    "        # bNew = max(min((b+50),255),0) if b > 150 else max(min((b-50),255),0)\n",
    "\n",
    "        # add brightness\n",
    "        # rNew = max(min((r+50),255),0)\n",
    "        # gNew = max(min((g+50),255),0)\n",
    "        # bNew = max(min((b+50),255),0)\n",
    "\n",
    "        # invert colors\n",
    "        # rNew = 255 - r\n",
    "        # gNew = 255 - g\n",
    "        # bNew = 255 - b\n",
    "        image.putpixel((x, y), (rNew, gNew, bNew))\n",
    "image.save('new_image.png')\n"
   ]
  },
  {
   "cell_type": "code",
   "execution_count": null,
   "metadata": {},
   "outputs": [],
   "source": [
    "pixel_data"
   ]
  },
  {
   "cell_type": "code",
   "execution_count": 22,
   "metadata": {},
   "outputs": [
    {
     "data": {
      "text/plain": [
       "[143, 69, 27]"
      ]
     },
     "execution_count": 22,
     "metadata": {},
     "output_type": "execute_result"
    }
   ],
   "source": [
    "pixel_data[0][0]"
   ]
  },
  {
   "cell_type": "code",
   "execution_count": 81,
   "metadata": {},
   "outputs": [
    {
     "name": "stdout",
     "output_type": "stream",
     "text": [
      "(1742, 972)\n"
     ]
    }
   ],
   "source": [
    "from PIL import Image\n",
    "\n",
    "img = Image.new('RGB', (len(pixel_data[0]), len(pixel_data)))\n",
    "print(img.size)\n",
    "x = 0\n",
    "y = 0\n",
    "for row in pixel_data:\n",
    "    x = 0\n",
    "    for pixel in row:\n",
    "        img.putpixel((x, y), (pixel[0], pixel[1], pixel[2]))\n",
    "        x = x + 1\n",
    "    y = y + 1\n",
    "\n",
    "# Save the image\n",
    "img.save('new_image.png')\n"
   ]
  },
  {
   "cell_type": "code",
   "execution_count": null,
   "metadata": {},
   "outputs": [],
   "source": [
    "import matplotlib.pyplot as plt\n",
    "from mpl_toolkits.mplot3d import Axes3D\n",
    "\n",
    "\n",
    "fig = plt.figure()\n",
    "ax = fig.add_subplot(111, projection='3d')\n",
    "\n",
    "r = []\n",
    "g = []\n",
    "b = []\n",
    "for row in pixel_data:\n",
    "    for pixel in row:\n",
    "        r.append(pixel[0])\n",
    "        g.append(pixel[1])\n",
    "        b.append(pixel[2])\n",
    "\n",
    "ax.scatter(r, g, b)\n",
    "\n",
    "ax.set_xlabel('Red')\n",
    "ax.set_ylabel('Green')\n",
    "ax.set_zlabel('Blue')\n",
    "\n",
    "plt.show()"
   ]
  }
 ],
 "metadata": {
  "kernelspec": {
   "display_name": "Python 3",
   "language": "python",
   "name": "python3"
  },
  "language_info": {
   "codemirror_mode": {
    "name": "ipython",
    "version": 3
   },
   "file_extension": ".py",
   "mimetype": "text/x-python",
   "name": "python",
   "nbconvert_exporter": "python",
   "pygments_lexer": "ipython3",
   "version": "3.11.0"
  },
  "orig_nbformat": 4
 },
 "nbformat": 4,
 "nbformat_minor": 2
}
